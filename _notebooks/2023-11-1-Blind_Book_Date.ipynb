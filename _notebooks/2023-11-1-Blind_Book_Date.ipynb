{
 "cells": [
  {
   "cell_type": "markdown",
   "metadata": {},
   "source": [
    "---\n",
    "comments: true\n",
    "layout: notebook\n",
    "title: Blind Book Date\n",
    "description: Go on a blind book date and see if the novel you get is the right fit!\n",
    "type: hacks\n",
    "courses: { compsci: {week: 1} }\n",
    "---"
   ]
  },
  {
   "cell_type": "markdown",
   "metadata": {},
   "source": [
    "<!DOCTYPE html>\n",
    "\n",
    "<html>\n",
    "\n",
    "<head>\n",
    "    <title>Random Book Generator</title>\n",
    "    <style>\n",
    "        body {\n",
    "            font-family: Arial, sans-serif;\n",
    "            text-align: center;\n",
    "            background-color: #f2f2f2;\n",
    "            padding: 20px;\n",
    "        }\n",
    "\n",
    "        #book-box {\n",
    "            background-color: #fff;\n",
    "            border-radius: 5px;\n",
    "            padding: 20px;\n",
    "            box-shadow: 0 0 10px rgba(0, 0, 0, 0.2);\n",
    "        }\n",
    "    </style> \n",
    "</head>\n",
    "\n",
    "<body>\n",
    "    <div id=\"book-box\">\n",
    "        <h1>Random Book Generator</h1>\n",
    "        <p id=\"book\">Click the button to get a random book recommendation.</p>\n",
    "        <button id=\"new-book\">New Book</button>\n",
    "    </div>\n",
    "\n",
    "    <script>\n",
    "        const books = [\n",
    "            \"To Kill a Mockingbird by Harper Lee\",\n",
    "            \"1984 by George Orwell\",\n",
    "            \"The Hobbit by J.R.R. Tolkien\",\n",
    "            \"Harry Potter and the Sorcerer's Stone by J.K. Rowling\",\n",
    "            \"The Lord of the Rings by J.R.R. Tolkien\",\n",
    "            \"The Love Hypothesis by Ali Hazelwood\",\n",
    "            \"The Spanish Love Deception by Elena Armas\",\n",
    "            \"The Alchemist by Paulo Coelho\"\n",
    "        ];\n",
    "\n",
    "        const bookElement = document.getElementById(\"book\");\n",
    "        const newBookButton = document.getElementById(\"new-book\");\n",
    "\n",
    "        newBookButton.addEventListener(\"click\", function () {\n",
    "            const randomIndex = Math.floor(Math.random() * books.length);\n",
    "            bookElement.textContent = \"How about reading: \" + books[randomIndex];\n",
    "        });\n",
    "    </script>\n",
    "\n",
    "</body>\n",
    "\n",
    "</html>\n"
   ]
  }
 ],
 "metadata": {
  "kernelspec": {
   "display_name": "Python 3",
   "language": "python",
   "name": "python3"
  },
  "language_info": {
   "codemirror_mode": {
    "name": "ipython",
    "version": 3
   },
   "file_extension": ".py",
   "mimetype": "text/x-python",
   "name": "python",
   "nbconvert_exporter": "python",
   "pygments_lexer": "ipython3",
   "version": "3.11.5"
  },
  "orig_nbformat": 4
 },
 "nbformat": 4,
 "nbformat_minor": 2
}
