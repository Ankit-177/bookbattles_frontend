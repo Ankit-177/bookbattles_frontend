{
 "cells": [
  {
   "cell_type": "markdown",
   "metadata": {},
   "source": [
    "---\n",
    "comments: true\n",
    "layout: notebook\n",
    "title: Finding Your Next Read [RAW CODE]\n",
    "description: Use this page to find the next book that's right for you!\n",
    "type: hacks\n",
    "courses: { compsci: {week: 1} }\n",
    "---"
   ]
  },
  {
   "cell_type": "code",
   "execution_count": null,
   "metadata": {},
   "outputs": [],
   "source": [
    "%%html\n",
    "\n",
    "<h3> Helpful Sites to Find Popular Books </h3>\n",
    "\n",
    "<div> \n",
    "    <p id=\"la\">Barnes and Nobles will feature the most popular books in every genre on their website, making it easy for you to start your reading journey on the right foot!</p>\n",
    "    <a href=\"https://www.barnesandnoble.com/b/books/_/N-1fZ29Z8q8\"> <button id=\"btn\">Barnes and Nobles Top 100 Books</button> </a>\n",
    "</div>\n",
    "\n",
    "<div>\n",
    "    <a href=\"https://www.nytimes.com/spotlight/books-to-read\"> The New York Times Bestseller List </a>\n",
    "    <a href=\"https://www.goodreads.com/\"> Goodreads </a>\n",
    "    <p>The New York Times ranks books on their bestseller list, making it a valuable source for finding a great new read. Goodreads is also popular, as it's a platform where thousands of readers can rate books in an online forum; though, you do need an account.</p>\n",
    "</div>\n",
    "\n",
    "<script>\n",
    "    document.getElementById(\"btn\").addEventListener(\"click\", function() {\n",
    "    var links = document.getElementsByTagName(\"a\");\n",
    "    for (let i = 0; i < links.length; i++) {\n",
    "      links[i].href = \"https://www.nytimes.com/spotlight/books-to-read\"; \n",
    "    }\n",
    "    document.getElementById(\"la\").innerHTML = \"Switched!\";\n",
    "  });\n",
    "</script>"
   ]
  }
 ],
 "metadata": {
  "language_info": {
   "name": "python"
  },
  "orig_nbformat": 4
 },
 "nbformat": 4,
 "nbformat_minor": 2
}
