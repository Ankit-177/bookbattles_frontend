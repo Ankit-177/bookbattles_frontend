{
 "cells": [
  {
   "cell_type": "markdown",
   "metadata": {},
   "source": [
    "---\n",
    "comments: true\n",
    "layout: notebook\n",
    "title: Finding Your Next Read\n",
    "description: Use this page to find the next book that's right for you!\n",
    "type: hacks\n",
    "courses: { compsci: {week: 1} }\n",
    "---"
   ]
  },
  {
   "cell_type": "code",
   "execution_count": 7,
   "metadata": {},
   "outputs": [
    {
     "data": {
      "text/html": [
       "\n",
       "<h1> Helpful Sites to Find Popular Books </h1>\n",
       "\n",
       "<div> \n",
       "    <p>Barnes and Nobles will feature the most popular books in every genre on their website, making it easy for you to start your reading journey on the right foot!</p>\n",
       "    <a href=\"https://www.barnesandnoble.com/b/books/_/N-1fZ29Z8q8\"> <button id=\"btn\">Barnes and Nobles Top 100 Books</button> </a>\n",
       "</div>\n",
       "\n",
       "<div> \n",
       "    <p>The New York Times ranks books on their bestseller list, making it a valuable source for finding a great new read.</p>\n",
       "    <a href=\"https://www.nytimes.com/spotlight/books-to-read\"> The New York Times Bestseller List </a>\n",
       "</div>\n",
       "\n",
       "<div> \n",
       "    <p>Goodreads is also popular, as it's a platform where thousands of readers can rate books in an online forum; though, you do need an account.</p> \n",
       "    <a href=\"https://www.goodreads.com/\"> Goodreads </a> \n",
       "</div>\n"
      ],
      "text/plain": [
       "<IPython.core.display.HTML object>"
      ]
     },
     "metadata": {},
     "output_type": "display_data"
    }
   ],
   "source": [
    "%%html\n",
    "\n",
    "<h1> Helpful Sites to Find Popular Books </h1>\n",
    "\n",
    "<div> \n",
    "    <p>Barnes and Nobles will feature the most popular books in every genre on their website, making it easy for you to start your reading journey on the right foot!</p>\n",
    "    <a href=\"https://www.barnesandnoble.com/b/books/_/N-1fZ29Z8q8\"> <button id=\"btn\">Barnes and Nobles Top 100 Books</button> </a>\n",
    "</div>\n",
    "\n",
    "<div> \n",
    "    <p>The New York Times ranks books on their bestseller list, making it a valuable source for finding a great new read.</p>\n",
    "    <a href=\"https://www.nytimes.com/spotlight/books-to-read\"> The New York Times Bestseller List </a>\n",
    "</div>\n",
    "\n",
    "<div> \n",
    "    <p>Goodreads is also popular, as it's a platform where thousands of readers can rate books in an online forum; though, you do need an account.</p> \n",
    "    <a href=\"https://www.goodreads.com/\"> Goodreads </a> \n",
    "</div>\n"
   ]
  }
 ],
 "metadata": {
  "kernelspec": {
   "display_name": "Python 3",
   "language": "python",
   "name": "python3"
  },
  "language_info": {
   "codemirror_mode": {
    "name": "ipython",
    "version": 3
   },
   "file_extension": ".py",
   "mimetype": "text/x-python",
   "name": "python",
   "nbconvert_exporter": "python",
   "pygments_lexer": "ipython3",
   "version": "3.11.5"
  },
  "orig_nbformat": 4
 },
 "nbformat": 4,
 "nbformat_minor": 2
}
