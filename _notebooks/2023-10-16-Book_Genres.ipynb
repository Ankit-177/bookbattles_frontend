{
 "cells": [
  {
   "cell_type": "markdown",
   "metadata": {},
   "source": [
    "---\n",
    "comments: true\n",
    "layout: notebook\n",
    "title: Book Genres\n",
    "description: Learn about different book genres. Afterwards, rate your favorite one!\n",
    "type: hacks\n",
    "courses: { compsci: {week: 1} }\n",
    "---"
   ]
  },
  {
   "cell_type": "markdown",
   "metadata": {},
   "source": [
    "## What is a Book Genre?"
   ]
  },
  {
   "cell_type": "markdown",
   "metadata": {},
   "source": [
    "## Non-Fiction\n",
    "\n",
    "### Biography\n",
    "\n",
    "### Memoir Autobiography "
   ]
  },
  {
   "cell_type": "markdown",
   "metadata": {},
   "source": [
    "## Fiction\n",
    "\n",
    "### Fantasy\n",
    "\n",
    "### Science Fiction\n",
    "\n",
    "### Dystopian\n",
    "\n",
    "### Action and Adventure\n",
    "\n",
    "### Mystery\n",
    "\n",
    "### Horror\n",
    "\n",
    "### Thriller and Suspense\n",
    "\n",
    "### Historical Fiction\n",
    "\n",
    "### Romance\n",
    "\n",
    "### Women's Fiction\n",
    "\n",
    "### Contemporary Fiction\n",
    "\n",
    "### Literary Fiction\n",
    "\n",
    "### Magical Realism\n",
    "\n",
    "### Graphic Novel\n",
    "\n",
    "### Young Adult\n",
    "\n",
    "### New Adult"
   ]
  }
 ],
 "metadata": {
  "language_info": {
   "name": "python"
  },
  "orig_nbformat": 4
 },
 "nbformat": 4,
 "nbformat_minor": 2
}
