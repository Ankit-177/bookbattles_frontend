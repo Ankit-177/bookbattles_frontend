{
 "cells": [
  {
   "cell_type": "markdown",
   "metadata": {},
   "source": [
    "---\n",
    "comments: true\n",
    "layout: notebook\n",
    "title: Book Genres\n",
    "description: Learn about different book genres. Afterwards, rate your favorite one!\n",
    "type: hacks\n",
    "courses: { compsci: {week: 1} }\n",
    "---"
   ]
  },
  {
   "cell_type": "markdown",
   "metadata": {},
   "source": [
    "## What is a Book Genre?\n",
    "\n",
    "A **category of literature** determined by the type of content present in a book. There are general genres subdivided into many niche ones. "
   ]
  },
  {
   "cell_type": "markdown",
   "metadata": {},
   "source": [
    "## Non-Fiction\n",
    "\n",
    "### Biography\n",
    "\n",
    "### Memoir\n",
    "\n",
    "### Self-Help"
   ]
  },
  {
   "cell_type": "markdown",
   "metadata": {},
   "source": [
    "## Fiction\n",
    "\n",
    "### Fantasy\n",
    "- includes magical and supernatural elements \n",
    "- often based on folklore or mythology\n",
    "- a completely fictional world\n",
    "- many subgenres\n",
    "\n",
    "Examples: *Harry Potter and the Sorcere's Stone*, *A Court of Thorns and Roses*\n",
    "\n",
    "### Science Fiction\n",
    "- characterized by real-feeling science\n",
    "- many are set in the distant future\n",
    "\n",
    "Examples: *Dune*, *Star Wars*\n",
    "\n",
    "### Dystopian\n",
    "- distasteful and frightening version of the future\n",
    "- grim society, often with restrictive and oppresive government\n",
    "\n",
    "Example: *The Hunger Games*, *1984*\n",
    "\n",
    "### Action and Adventure\n",
    "- follows the typical Hero's Journey\n",
    "- protaginst put into dangerous/extreme/adventurous situations\n",
    "- can be present from fantasy to romance\n",
    "\n",
    "Examples: *The Hobbit*, *Jane Eyre*\n",
    "\n",
    "### Mystery\n",
    "- engaging plot that is centered in a mystery characters are trying to solve\n",
    "- clues to uncover, suspects to hunt and evaluate \n",
    "\n",
    "Examples: *Murder on the Orent Express*, *A Good Girl's Good to Murder*\n",
    "\n",
    "### Horror\n",
    "- any context/plot meant to frighten and put the reader on edge\n",
    "- often includes shocking and graphic elements\n",
    "\n",
    "Examples: *Pet Cemetary*, *Carrie*\n",
    "\n",
    "### Thriller and Suspense\n",
    "- lots of action\n",
    "- builds suspense but isn't always horror\n",
    "- high stakes, fear built\n",
    "\n",
    "Examples: *The Silent Patient*, *The Girl on the Train*\n",
    "\n",
    "### Historical Fiction\n",
    "- fiction based on history or set in a historical era \n",
    "- characters and events are fictional, yet set in a real time\n",
    "- many authors choose to depict fictional characters in a known war\n",
    "\n",
    "Example: *The Nightingale*, *Gone with the Wind*\n",
    "\n",
    "### Romance\n",
    "\n",
    "### Women's Fiction\n",
    "\n",
    "### Contemporary Fiction\n",
    "\n",
    "### Literary Fiction\n",
    "\n",
    "### Magical Realism\n",
    "\n",
    "### Graphic Novel\n",
    "\n",
    "### Young Adult\n",
    "\n",
    "### New Adult"
   ]
  }
 ],
 "metadata": {
  "language_info": {
   "name": "python"
  },
  "orig_nbformat": 4
 },
 "nbformat": 4,
 "nbformat_minor": 2
}
